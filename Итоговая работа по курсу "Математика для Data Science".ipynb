{
  "nbformat": 4,
  "nbformat_minor": 0,
  "metadata": {
    "colab": {
      "provenance": [],
      "authorship_tag": "ABX9TyMipuSEfo1NgE4bi7+CFRcl",
      "include_colab_link": true
    },
    "kernelspec": {
      "name": "python3",
      "display_name": "Python 3"
    },
    "language_info": {
      "name": "python"
    }
  },
  "cells": [
    {
      "cell_type": "markdown",
      "metadata": {
        "id": "view-in-github",
        "colab_type": "text"
      },
      "source": [
        "<a href=\"https://colab.research.google.com/github/polina-minaeva/mathematics-for-data-science/blob/main/%D0%98%D1%82%D0%BE%D0%B3%D0%BE%D0%B2%D0%B0%D1%8F%20%D1%80%D0%B0%D0%B1%D0%BE%D1%82%D0%B0%20%D0%BF%D0%BE%20%D0%BA%D1%83%D1%80%D1%81%D1%83%20%22%D0%9C%D0%B0%D1%82%D0%B5%D0%BC%D0%B0%D1%82%D0%B8%D0%BA%D0%B0%20%D0%B4%D0%BB%D1%8F%20Data%20Science%22.ipynb\" target=\"_parent\"><img src=\"https://colab.research.google.com/assets/colab-badge.svg\" alt=\"Open In Colab\"/></a>"
      ]
    },
    {
      "cell_type": "code",
      "execution_count": 1,
      "metadata": {
        "id": "2G2yd8KDsJiQ"
      },
      "outputs": [],
      "source": [
        "import sympy as sp #Загрузила библиотеки\n",
        "from sympy import *\n",
        "import matplotlib.pyplot as plt\n",
        "import numpy as np\n",
        "from scipy.optimize import curve_fit\n",
        "from sklearn.metrics.pairwise import pairwise_distances\n",
        "\n",
        "%matplotlib inline"
      ]
    },
    {
      "cell_type": "markdown",
      "source": [
        "**Задание 1.**\n",
        "\n",
        "Вычислите производную функции в точке x0 = 1"
      ],
      "metadata": {
        "id": "YaAU-jHKscmr"
      }
    },
    {
      "cell_type": "code",
      "source": [
        "#Дана такая функция: tg(sin(x) + cos(2*x + 3))**2"
      ],
      "metadata": {
        "id": "05P2Bj--sWEa"
      },
      "execution_count": null,
      "outputs": []
    },
    {
      "cell_type": "code",
      "source": [
        "x = symbols('x') #Превратила x в символическое значение\n",
        "expr = tan(sin(x) + cos(2*x + 3))**2 #Записала функцию\n",
        "\n",
        "#Использовала метод lambdify() для превращения символического выражения в функцию\n",
        "f = lambdify(x, expr, \"math\")"
      ],
      "metadata": {
        "id": "ohsw1mp9t2er"
      },
      "execution_count": null,
      "outputs": []
    },
    {
      "cell_type": "code",
      "source": [
        "expr"
      ],
      "metadata": {
        "colab": {
          "base_uri": "https://localhost:8080/",
          "height": 39
        },
        "id": "_HoarT0J7jJx",
        "outputId": "eed1e2f8-5e5c-4abf-d5c1-e3b6b13a6d74"
      },
      "execution_count": null,
      "outputs": [
        {
          "output_type": "execute_result",
          "data": {
            "text/plain": [
              "tan(sin(x) + cos(2*x + 3))**2"
            ],
            "text/latex": "$\\displaystyle \\tan^{2}{\\left(\\sin{\\left(x \\right)} + \\cos{\\left(2 x + 3 \\right)} \\right)}$"
          },
          "metadata": {},
          "execution_count": 57
        }
      ]
    },
    {
      "cell_type": "code",
      "source": [
        "deriv = sp.diff(expr, x) #Дифференцировала функцию по переменной x и нашла первую производную функции"
      ],
      "metadata": {
        "id": "VHUWtrlR7tAL"
      },
      "execution_count": null,
      "outputs": []
    },
    {
      "cell_type": "code",
      "source": [
        "deriv"
      ],
      "metadata": {
        "colab": {
          "base_uri": "https://localhost:8080/",
          "height": 39
        },
        "id": "EvRA_Pq07w2Q",
        "outputId": "89549abc-c76e-4955-b78a-42874a947765"
      },
      "execution_count": null,
      "outputs": [
        {
          "output_type": "execute_result",
          "data": {
            "text/plain": [
              "2*(-2*sin(2*x + 3) + cos(x))*(tan(sin(x) + cos(2*x + 3))**2 + 1)*tan(sin(x) + cos(2*x + 3))"
            ],
            "text/latex": "$\\displaystyle 2 \\left(- 2 \\sin{\\left(2 x + 3 \\right)} + \\cos{\\left(x \\right)}\\right) \\left(\\tan^{2}{\\left(\\sin{\\left(x \\right)} + \\cos{\\left(2 x + 3 \\right)} \\right)} + 1\\right) \\tan{\\left(\\sin{\\left(x \\right)} + \\cos{\\left(2 x + 3 \\right)} \\right)}$"
          },
          "metadata": {},
          "execution_count": 59
        }
      ]
    },
    {
      "cell_type": "code",
      "source": [
        "#Узнала значение производной в точке х=1: использовала функцию subs\n",
        "deriv.subs(x, 1)"
      ],
      "metadata": {
        "colab": {
          "base_uri": "https://localhost:8080/",
          "height": 38
        },
        "id": "DVxXT2A1qs3x",
        "outputId": "a1ef3805-69d4-4cee-9acb-afb13a70e521"
      },
      "execution_count": null,
      "outputs": [
        {
          "output_type": "execute_result",
          "data": {
            "text/plain": [
              "2*(1 + tan(cos(5) + sin(1))**2)*(cos(1) - 2*sin(5))*tan(cos(5) + sin(1))"
            ],
            "text/latex": "$\\displaystyle 2 \\cdot \\left(1 + \\tan^{2}{\\left(\\cos{\\left(5 \\right)} + \\sin{\\left(1 \\right)} \\right)}\\right) \\left(\\cos{\\left(1 \\right)} - 2 \\sin{\\left(5 \\right)}\\right) \\tan{\\left(\\cos{\\left(5 \\right)} + \\sin{\\left(1 \\right)} \\right)}$"
          },
          "metadata": {},
          "execution_count": 60
        }
      ]
    },
    {
      "cell_type": "markdown",
      "source": [
        "**Задание 2.**\n",
        "\n",
        "Дан объект в 2D пространстве"
      ],
      "metadata": {
        "id": "AQmjE8NABsT5"
      }
    },
    {
      "cell_type": "code",
      "source": [
        "import numpy as np\n",
        "import matplotlib.pyplot as plt\n",
        "\n",
        "A = [\n",
        "[-100, -100, 1],\n",
        "[0, 100, 1],\n",
        "[100, -100, 1],\n",
        "[-100, -100, 1]\n",
        "]\n",
        "\n",
        "A = np.array(A)\n",
        "\n",
        "x = A[:,0]\n",
        "y = A[:,1]\n",
        "plt.plot(x, y)\n",
        "plt.ylim([-200, 200])\n",
        "plt.xlim([-200, 200])"
      ],
      "metadata": {
        "colab": {
          "base_uri": "https://localhost:8080/",
          "height": 452
        },
        "id": "R8Nc3S-dBzi-",
        "outputId": "cca59d59-1c3b-4d8a-fd78-f4529539f39f"
      },
      "execution_count": null,
      "outputs": [
        {
          "output_type": "execute_result",
          "data": {
            "text/plain": [
              "(-200.0, 200.0)"
            ]
          },
          "metadata": {},
          "execution_count": 26
        },
        {
          "output_type": "display_data",
          "data": {
            "text/plain": [
              "<Figure size 640x480 with 1 Axes>"
            ],
            "image/png": "[encoded data removed]"
          },
          "metadata": {}
        }
      ]
    },
    {
      "cell_type": "markdown",
      "source": [
        "При помощи матричных операций выполните:\n",
        "\n",
        "Масштабирование и смещение объекта (применить 2 матрицы трансформаций). Масштабирование на (0.5, 1.2) и смещение на (200, 300)"
      ],
      "metadata": {
        "id": "lXyC9u8vB7Gi"
      }
    },
    {
      "cell_type": "code",
      "source": [
        "A"
      ],
      "metadata": {
        "colab": {
          "base_uri": "https://localhost:8080/"
        },
        "id": "KGx08EvvhWK-",
        "outputId": "cc08e679-18b2-428f-c1a5-293ccaaf3639"
      },
      "execution_count": null,
      "outputs": [
        {
          "output_type": "execute_result",
          "data": {
            "text/plain": [
              "array([[-100, -100,    1],\n",
              "       [   0,  100,    1],\n",
              "       [ 100, -100,    1],\n",
              "       [-100, -100,    1]])"
            ]
          },
          "metadata": {},
          "execution_count": 28
        }
      ]
    },
    {
      "cell_type": "code",
      "source": [
        "B = np.array([[0.5, 0, 0], #Написала матрицу масштабирования со значениями параметров a, d, определенных условиями задания\n",
        "              [0, 1.2, 0],\n",
        "              [0, 0, 1]])"
      ],
      "metadata": {
        "id": "rgQdWSNcghZ7"
      },
      "execution_count": null,
      "outputs": []
    },
    {
      "cell_type": "code",
      "source": [
        "scal = np.dot(A, B) #Умножила матрицу A на матрицу масштабирования для проведения преобразований"
      ],
      "metadata": {
        "id": "dGC_7NHuonlB"
      },
      "execution_count": null,
      "outputs": []
    },
    {
      "cell_type": "code",
      "source": [
        "A = np.array(scal)\n",
        "\n",
        "x = A[:,0] #Визуализировала полученный треугольник\n",
        "y = A[:,1]\n",
        "plt.plot(x, y)\n",
        "plt.ylim([-200, 200])\n",
        "plt.xlim([-200, 200])"
      ],
      "metadata": {
        "colab": {
          "base_uri": "https://localhost:8080/",
          "height": 452
        },
        "id": "loEQn69wnWSq",
        "outputId": "9d7bc9e6-dbf7-4112-ebf0-7e3e8057fb44"
      },
      "execution_count": null,
      "outputs": [
        {
          "output_type": "execute_result",
          "data": {
            "text/plain": [
              "(-200.0, 200.0)"
            ]
          },
          "metadata": {},
          "execution_count": 31
        },
        {
          "output_type": "display_data",
          "data": {
            "text/plain": [
              "<Figure size 640x480 with 1 Axes>"
            ],
            "image/png": "[encoded data removed]"
          },
          "metadata": {}
        }
      ]
    },
    {
      "cell_type": "code",
      "source": [
        "C = np.array([[1, 0, 0], #Написала матрицу смещения со значениями параметров e, f, определенных условиями задания\n",
        "              [0, 1, 0],\n",
        "              [200, 300, 1]])"
      ],
      "metadata": {
        "id": "E5sWkfumpksz"
      },
      "execution_count": null,
      "outputs": []
    },
    {
      "cell_type": "code",
      "source": [
        "displac = np.dot(scal, C) #Умножила полученную в результате масштабирования матрицу на матрицу смещения для проведения преобразований"
      ],
      "metadata": {
        "id": "D1cbkkmOp57U"
      },
      "execution_count": null,
      "outputs": []
    },
    {
      "cell_type": "code",
      "source": [
        "A = np.array(displac)\n",
        "\n",
        "x = A[:,0] #Визуализировала полученный треугольник\n",
        "y = A[:,1]\n",
        "plt.plot(x, y)\n",
        "plt.ylim([-200, 500])\n",
        "plt.xlim([-200, 400])"
      ],
      "metadata": {
        "colab": {
          "base_uri": "https://localhost:8080/",
          "height": 452
        },
        "id": "R9-VfKPAqJP-",
        "outputId": "7824f2b8-b9eb-498d-aadc-8de08fee44dd"
      },
      "execution_count": null,
      "outputs": [
        {
          "output_type": "execute_result",
          "data": {
            "text/plain": [
              "(-200.0, 400.0)"
            ]
          },
          "metadata": {},
          "execution_count": 35
        },
        {
          "output_type": "display_data",
          "data": {
            "text/plain": [
              "<Figure size 640x480 with 1 Axes>"
            ],
            "image/png": "[encoded data removed]"
          },
          "metadata": {}
        }
      ]
    },
    {
      "cell_type": "markdown",
      "source": [
        "**Задание 3.**\n",
        "\n",
        "Найдите собственные значения и собственные вектора матрицы:"
      ],
      "metadata": {
        "id": "PuAE8Pea8MdZ"
      }
    },
    {
      "cell_type": "code",
      "source": [
        "m = np.array([[1, 4],\n",
        "              [1, 1]])"
      ],
      "metadata": {
        "id": "jnllzCIJ7ykk"
      },
      "execution_count": null,
      "outputs": []
    },
    {
      "cell_type": "code",
      "source": [
        "np.linalg.eig(m) #Использовала функцию eig для одновременного нахождения собственных значений (первая скобка) и векторов (вторая скобка)"
      ],
      "metadata": {
        "colab": {
          "base_uri": "https://localhost:8080/"
        },
        "id": "j0tmqrCF8j8N",
        "outputId": "3d93a670-5056-4d00-ad8b-8f716ea9d759"
      },
      "execution_count": null,
      "outputs": [
        {
          "output_type": "execute_result",
          "data": {
            "text/plain": [
              "(array([ 3., -1.]),\n",
              " array([[ 0.89442719, -0.89442719],\n",
              "        [ 0.4472136 ,  0.4472136 ]]))"
            ]
          },
          "metadata": {},
          "execution_count": 37
        }
      ]
    },
    {
      "cell_type": "markdown",
      "source": [
        "**Задание 4.**\n",
        "\n",
        "Дана функция с неизвестными параметрами a и b, вам также известны значения функции fx в точках x.\n",
        "\n",
        "Найдите оптимальные параметры a, b, минимизирующие абсолютную ошибку error."
      ],
      "metadata": {
        "id": "JNOthrvR8tuG"
      }
    },
    {
      "cell_type": "code",
      "source": [
        "def f(x, a, b): #Дана такая функция\n",
        "    return np.e**a * np.sin(b*x) + x"
      ],
      "metadata": {
        "id": "KvKI0ipp8wQJ"
      },
      "execution_count": 2,
      "outputs": []
    },
    {
      "cell_type": "code",
      "source": [
        "x = np.array([0.        , 0.26315789, 0.52631579, 0.78947368, 1.05263158, #Дан массив значений x\n",
        "              1.31578947, 1.57894737, 1.84210526, 2.10526316, 2.36842105,\n",
        "              2.63157895, 2.89473684, 3.15789474, 3.42105263, 3.68421053,\n",
        "              3.94736842, 4.21052632, 4.47368421, 4.73684211, 5.        ])\n",
        "\n",
        "fx = np.array([  0.        , -12.01819092, -18.90968634, -17.68786571, #Определены значения функции в точках x\n",
        "                -8.7529108 ,   4.27524517,  16.06801336,  21.81250213,\n",
        "                19.22059845,   9.48411207,  -3.22273056, -13.48576488,\n",
        "               -16.91096359, -11.95866834,  -0.58630088,  12.56873816,\n",
        "                22.12489421,  24.20292139,  18.04522521,   6.33211092])"
      ],
      "metadata": {
        "id": "BfQHJ0Y98147"
      },
      "execution_count": 3,
      "outputs": []
    },
    {
      "cell_type": "code",
      "source": [
        "plt.plot(x, fx)\n",
        "plt.show()"
      ],
      "metadata": {
        "colab": {
          "base_uri": "https://localhost:8080/",
          "height": 430
        },
        "id": "9EC4i1rR85Rm",
        "outputId": "a50de0b4-447d-41b6-d9b5-21d50f2eda80"
      },
      "execution_count": 4,
      "outputs": [
        {
          "output_type": "display_data",
          "data": {
            "text/plain": [
              "<Figure size 640x480 with 1 Axes>"
            ],
            "image/png": "[encoded data removed]"
          },
          "metadata": {}
        }
      ]
    },
    {
      "cell_type": "code",
      "source": [
        "def error(params): #Функция для проверки ошибки\n",
        "    return np.sum(np.abs(fx - f(x, params[0], params[1])))"
      ],
      "metadata": {
        "id": "omFbODqV88x0"
      },
      "execution_count": 5,
      "outputs": []
    },
    {
      "cell_type": "code",
      "source": [
        "all_params = curve_fit(f, x, fx, p0=[0,1]) #Применила функцию curve_fit для определения параментов a и b функции f"
      ],
      "metadata": {
        "id": "gqePcENKr3-1"
      },
      "execution_count": 7,
      "outputs": []
    },
    {
      "cell_type": "code",
      "source": [
        "all_params"
      ],
      "metadata": {
        "colab": {
          "base_uri": "https://localhost:8080/"
        },
        "id": "Lp6Un6cFsaZi",
        "outputId": "1d9b7e9f-4248-4fb3-d04a-d6ded7ab69f2"
      },
      "execution_count": 8,
      "outputs": [
        {
          "output_type": "execute_result",
          "data": {
            "text/plain": [
              "(array([ 3. , -2.5]),\n",
              " array([[ 2.68953112e-18, -5.23196246e-20],\n",
              "        [-5.23196246e-20,  2.80481711e-19]]))"
            ]
          },
          "metadata": {},
          "execution_count": 8
        }
      ]
    },
    {
      "cell_type": "code",
      "source": [
        "params = all_params[0] #Это a и b"
      ],
      "metadata": {
        "id": "4S0WrHN-scpU"
      },
      "execution_count": 9,
      "outputs": []
    },
    {
      "cell_type": "code",
      "source": [
        "error(params) #Подставила параметры в функцию для определения ошибки"
      ],
      "metadata": {
        "colab": {
          "base_uri": "https://localhost:8080/"
        },
        "id": "ZoEb1_4PsqIG",
        "outputId": "20d966c3-66b4-475c-a5da-320b890cf41e"
      },
      "execution_count": 10,
      "outputs": [
        {
          "output_type": "execute_result",
          "data": {
            "text/plain": [
              "1.5365230368047378e-06"
            ]
          },
          "metadata": {},
          "execution_count": 10
        }
      ]
    },
    {
      "cell_type": "markdown",
      "source": [
        "**Задание 5.**\n",
        "\n",
        "Дана матрица рейтингов фильмов (строки - пользователи (10 человек), столбцы - фильмы (15 фильмов)).\n",
        "\n",
        "Необходимо найти наиболее похожего пользователя по косинусной метрике для каждого из пользователей (ответ: 10 пар вида (x, y), где y - наиболее похожий пользователь на пользователя x)."
      ],
      "metadata": {
        "id": "bzCnaFniYmrG"
      }
    },
    {
      "cell_type": "code",
      "source": [
        "raitings = np.array([[ 4,  4,  9,  4,  1,  6, 10,  7,  9,  6,  9,  2,  8,  6,  6],\n",
        "                     [ 9,  2,  5, 10,  7,  8, 10,  5,  6,  2,  1,  6,  8,  9,  7],\n",
        "                     [ 1,  6,  8,  8,  4,  9,  3,  8, 10,  5,  2,  6,  8,  1,  6],\n",
        "                     [ 6,  1,  9,  7,  7,  9,  2,  3,  5,  1,  6,  6,  3,  2,  7],\n",
        "                     [ 3,  7,  3,  5,  7,  9,  9,  6,  2,  9,  1,  2,  8, 10,  6],\n",
        "                     [ 8,  3,  7,  3,  8,  6,  1,  8,  8,  6,  1,  9,  4, 10,  1],\n",
        "                     [ 9,  8,  4,  8,  8, 10,  6,  1,  1,  2,  9,  5,  2,  7,  2],\n",
        "                     [ 4,  1,  6,  4,  3, 10,  4,  4,  2,  8,  7,  9,  3,  8,  3],\n",
        "                     [ 2,  7,  7,  6, 10,  6,  8,  9,  8,  6, 10,  1,  7, 10,  4],\n",
        "                     [ 5, 10,  8,  8,  9,  7,  2,  9,  9, 10,  8,  8,  8,  6, 10]])"
      ],
      "metadata": {
        "id": "L2HF9OOC88wC"
      },
      "execution_count": null,
      "outputs": []
    },
    {
      "cell_type": "code",
      "source": [
        "distance_matrix = pairwise_distances(raitings, metric='cosine') #Применила метод pairwise_distances для определения косинусного расстояния между пользователями"
      ],
      "metadata": {
        "id": "hYTk0p0gdRFJ"
      },
      "execution_count": null,
      "outputs": []
    },
    {
      "cell_type": "code",
      "source": [
        "distance_matrix #Для каждого пользователя представлено косинусное расстояние со всеми другими пользователями (включая его самого - равно 0)"
      ],
      "metadata": {
        "id": "Z2AWBuXSdpsB",
        "outputId": "dda67459-a6a3-4e72-db12-f97db7706239",
        "colab": {
          "base_uri": "https://localhost:8080/"
        }
      },
      "execution_count": null,
      "outputs": [
        {
          "output_type": "execute_result",
          "data": {
            "text/plain": [
              "array([[ 0.        , 15.49193338, 13.78404875, 15.96871942, 15.23154621,\n",
              "        18.        , 18.46618531, 15.06651917, 11.5758369 , 16.        ],\n",
              "       [15.49193338,  0.        , 15.87450787, 14.31782106, 13.26649916,\n",
              "        15.23154621, 15.26433752, 16.09347694, 16.24807681, 17.94435844],\n",
              "       [13.78404875, 15.87450787,  0.        , 13.07669683, 16.30950643,\n",
              "        15.8113883 , 19.67231557, 16.21727474, 16.0623784 , 13.03840481],\n",
              "       [15.96871942, 14.31782106, 13.07669683,  0.        , 18.62793601,\n",
              "        15.26433752, 13.56465997, 12.80624847, 17.63519209, 16.82260384],\n",
              "       [15.23154621, 13.26649916, 16.30950643, 18.62793601,  0.        ,\n",
              "        16.55294536, 16.34013464, 14.73091986, 13.34166406, 16.73320053],\n",
              "       [18.        , 15.23154621, 15.8113883 , 15.26433752, 16.55294536,\n",
              "         0.        , 17.57839583, 13.15294644, 16.673332  , 16.37070554],\n",
              "       [18.46618531, 15.26433752, 19.67231557, 13.56465997, 16.34013464,\n",
              "        17.57839583,  0.        , 13.85640646, 16.46207763, 19.10497317],\n",
              "       [15.06651917, 16.09347694, 16.21727474, 12.80624847, 14.73091986,\n",
              "        13.15294644, 13.85640646,  0.        , 16.88194302, 17.57839583],\n",
              "       [11.5758369 , 16.24807681, 16.0623784 , 17.63519209, 13.34166406,\n",
              "        16.673332  , 16.46207763, 16.88194302,  0.        , 13.56465997],\n",
              "       [16.        , 17.94435844, 13.03840481, 16.82260384, 16.73320053,\n",
              "        16.37070554, 19.10497317, 17.57839583, 13.56465997,  0.        ]])"
            ]
          },
          "metadata": {},
          "execution_count": 52
        }
      ]
    },
    {
      "cell_type": "code",
      "source": [
        "i = -1 #Создала переменную для определения индекса пользователя\n",
        "for cos_dist in distance_matrix: #Через цикл обратилась к каждому пользователю\n",
        "  i += 1\n",
        "  second_list = np.sort(cos_dist)\n",
        "  similar_user = second_list[1] #Создала второй список значений косинусных расстояний от меньшего к большему и отобрала значение с индексом 1 (пропускаю 0)\n",
        "  index_of_sim_user = np.where(cos_dist == similar_user) #Определила индекс похожего пользователя через функцию np.where()\n",
        "  integer = int(\"\".join(str(x) for el in index_of_sim_user for x in el)) #Извлекла число из массива, который определяет индекс похожего пользователя\n",
        "  print(i, integer) #Для каждого пользователя подобрала в пару похожего пользователя и написала его индекс"
      ],
      "metadata": {
        "colab": {
          "base_uri": "https://localhost:8080/"
        },
        "id": "A8DU5ME0olV4",
        "outputId": "6de776f8-b237-4f16-f694-4ac41e5815b2"
      },
      "execution_count": null,
      "outputs": [
        {
          "output_type": "stream",
          "name": "stdout",
          "text": [
            "0 8\n",
            "1 4\n",
            "2 9\n",
            "3 7\n",
            "4 1\n",
            "5 7\n",
            "6 3\n",
            "7 3\n",
            "8 0\n",
            "9 2\n"
          ]
        }
      ]
    }
  ]
}
